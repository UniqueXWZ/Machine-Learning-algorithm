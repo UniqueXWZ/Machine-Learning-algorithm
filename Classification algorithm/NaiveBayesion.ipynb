{
 "cells": [
  {
   "cell_type": "code",
   "execution_count": 1,
   "metadata": {},
   "outputs": [],
   "source": [
    "import pandas as pd\n",
    "import numpy as np"
   ]
  },
  {
   "cell_type": "code",
   "execution_count": 89,
   "metadata": {},
   "outputs": [],
   "source": [
    "class NaiveBayesionClassifier:\n",
    "    \n",
    "    def __init__(self):\n",
    "        pass\n",
    "    \n",
    "    def fit(self, Xtrain: pd.DataFrame, Ytrain: pd.Series):\n",
    "        n_sample = len(Ytrain) # 样本数量\n",
    "        clases = Ytrain.unique() # 所有类别\n",
    "        n_clas = len(clases) # 类别数量\n",
    "        clas_sample_num = Ytrain.value_counts() # 不同类别样本的数量\n",
    "        clas_probs = {} # 数据集中各类样本出现的概率\n",
    "        # 计算数据集中各类样本出现的概率\n",
    "        for clas in clases:\n",
    "            clas_probs[clas] = (clas_sample_num[clas] + 1) / (n_sample + n_clas)\n",
    "        self.clas_sample_num = clas_sample_num\n",
    "        self.n_clas = n_clas\n",
    "        self.clases = clases\n",
    "        self.attrs = Xtrain.columns.values # 所有属性\n",
    "        self.attrval_num = Xtrain.apply(lambda s: len(s.unique())) # 各属性的取值数\n",
    "        self.Xtrain = Xtrain\n",
    "        self.Ytrain = Ytrain\n",
    "        self.clas_probs = clas_probs\n",
    "        \n",
    "    def predict_1(self, x: pd.Series):\n",
    "        prob_disbt = pd.Series(np.ones(self.n_clas), index=self.clases) # 测试样本的概率分布\n",
    "        for clas in self.clases:\n",
    "            prob = 1\n",
    "            for attr in self.attrs:\n",
    "                num = ((self.Xtrain[attr] == x[attr]) & (self.Ytrain == clas)).sum() # 类别clas中属性attr取值为x[attr]的数量\n",
    "                prob *= (num + 1) / (self.clas_sample_num[clas] + self.attrval_num[attr]) # 属性条件概率\n",
    "            prob_disbt[clas] = self.clas_probs[clas] * prob\n",
    "        pred = prob_disbt.idxmax() # 概率最大的类别作为预测结果\n",
    "        return pred\n",
    "    \n",
    "    def predict_n(self, Xtest: pd.DataFrame):\n",
    "        Ypred = Xtest.apply(self.predict_1, axis=1)\n",
    "        return Ypred"
   ]
  },
  {
   "cell_type": "code",
   "execution_count": 90,
   "metadata": {
    "scrolled": true
   },
   "outputs": [],
   "source": [
    "# 测试\n",
    "df1 = pd.read_csv('西瓜2.0.csv').drop('编号', axis=1)\n",
    "Xtrain = df1.drop('好瓜', axis=1)\n",
    "Ytrain = df1['好瓜']\n",
    "nbc = NaiveBayesionClassifier()\n",
    "nbc.fit(Xtrain, Ytrain)"
   ]
  },
  {
   "cell_type": "code",
   "execution_count": 92,
   "metadata": {},
   "outputs": [
    {
     "data": {
      "text/plain": [
       "0    是\n",
       "1    否\n",
       "2    否\n",
       "3    否\n",
       "dtype: object"
      ]
     },
     "execution_count": 92,
     "metadata": {},
     "output_type": "execute_result"
    }
   ],
   "source": [
    "df2 = pd.read_csv('西瓜测试.csv').drop('编号', axis=1)\n",
    "Xtest = df2.drop('好瓜', axis=1)\n",
    "Ytest = df2['好瓜']\n",
    "nbc.predict_n(Xtest)"
   ]
  }
 ],
 "metadata": {
  "kernelspec": {
   "display_name": "Python 3",
   "language": "python",
   "name": "python3"
  },
  "language_info": {
   "codemirror_mode": {
    "name": "ipython",
    "version": 3
   },
   "file_extension": ".py",
   "mimetype": "text/x-python",
   "name": "python",
   "nbconvert_exporter": "python",
   "pygments_lexer": "ipython3",
   "version": "3.8.8"
  },
  "varInspector": {
   "cols": {
    "lenName": 16,
    "lenType": 16,
    "lenVar": 40
   },
   "kernels_config": {
    "python": {
     "delete_cmd_postfix": "",
     "delete_cmd_prefix": "del ",
     "library": "var_list.py",
     "varRefreshCmd": "print(var_dic_list())"
    },
    "r": {
     "delete_cmd_postfix": ") ",
     "delete_cmd_prefix": "rm(",
     "library": "var_list.r",
     "varRefreshCmd": "cat(var_dic_list()) "
    }
   },
   "types_to_exclude": [
    "module",
    "function",
    "builtin_function_or_method",
    "instance",
    "_Feature"
   ],
   "window_display": false
  }
 },
 "nbformat": 4,
 "nbformat_minor": 2
}
