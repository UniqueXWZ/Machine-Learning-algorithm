{
 "cells": [
  {
   "cell_type": "code",
   "execution_count": 36,
   "metadata": {},
   "outputs": [],
   "source": [
    "import numpy as np\n",
    "import sklearn.datasets as das\n",
    "from sklearn.model_selection import train_test_split"
   ]
  },
  {
   "cell_type": "code",
   "execution_count": 53,
   "metadata": {},
   "outputs": [],
   "source": [
    "class KNN():\n",
    "    \n",
    "    def __init__(self, k=3):\n",
    "        self.k = k # 设定k值，默认为3\n",
    "    \n",
    "    def fit(self, trainX, trainY):\n",
    "        self.trainX = trainX \n",
    "        self.trainY = trainY\n",
    "    \n",
    "    def predict(self, testX):\n",
    "        n = testX.shape[0] # 测试样本数\n",
    "        dists = np.linalg.norm(testX.reshape(n, 1, -1) - self.trainX, ord=2, axis=2) # 计算每一个测试样本要到训练样本的距离\n",
    "        k_neigh = dists.argsort(axis=1)[:, :self.k] # 每一个测试样本最近的k个训练样本\n",
    "        labels = self.trainY[k_neigh] # k个训练样本对应的标签\n",
    "        pred_Y = np.array([]) # 保存预测结果\n",
    "        for l in labels:\n",
    "            pred_Y = np.append(pred_Y, np.bincount(l).argmax()) # 将最近的k个训练样本中占比最多的标签作为预测结果\n",
    "        return pred_Y\n",
    "    \n",
    "    def evaluate(self, testX, testY):\n",
    "        n = len(testY)\n",
    "        pred_Y = self.predict(testX)\n",
    "        accuracy = np.sum(testY == pred_Y) / n # 计算准确率\n",
    "        print(f'准确率:{100 * accuracy}%')"
   ]
  },
  {
   "cell_type": "code",
   "execution_count": 180,
   "metadata": {},
   "outputs": [
    {
     "name": "stdout",
     "output_type": "stream",
     "text": [
      "准确率:74.07407407407408%\n"
     ]
    }
   ],
   "source": [
    "# 测试\n",
    "wine_dataset = das.load_wine()\n",
    "trainX, testX, trainY, testY = train_test_split(wine_dataset.data, wine_dataset.target, test_size=0.3, shuffle=True)\n",
    "knn_classifier = KNN(5)\n",
    "knn_classifier.fit(trainX, trainY)\n",
    "knn_classifier.evaluate(testX, testY)"
   ]
  }
 ],
 "metadata": {
  "kernelspec": {
   "display_name": "Python 3",
   "language": "python",
   "name": "python3"
  },
  "language_info": {
   "codemirror_mode": {
    "name": "ipython",
    "version": 3
   },
   "file_extension": ".py",
   "mimetype": "text/x-python",
   "name": "python",
   "nbconvert_exporter": "python",
   "pygments_lexer": "ipython3",
   "version": "3.8.8"
  },
  "varInspector": {
   "cols": {
    "lenName": 16,
    "lenType": 16,
    "lenVar": 40
   },
   "kernels_config": {
    "python": {
     "delete_cmd_postfix": "",
     "delete_cmd_prefix": "del ",
     "library": "var_list.py",
     "varRefreshCmd": "print(var_dic_list())"
    },
    "r": {
     "delete_cmd_postfix": ") ",
     "delete_cmd_prefix": "rm(",
     "library": "var_list.r",
     "varRefreshCmd": "cat(var_dic_list()) "
    }
   },
   "types_to_exclude": [
    "module",
    "function",
    "builtin_function_or_method",
    "instance",
    "_Feature"
   ],
   "window_display": false
  }
 },
 "nbformat": 4,
 "nbformat_minor": 2
}
