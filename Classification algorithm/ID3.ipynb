{
 "cells": [
  {
   "cell_type": "code",
   "execution_count": 1,
   "metadata": {},
   "outputs": [],
   "source": [
    "import numpy as np\n",
    "import pandas as pd"
   ]
  },
  {
   "cell_type": "code",
   "execution_count": 2,
   "metadata": {},
   "outputs": [],
   "source": [
    "def Info_Ent(Ydata: pd.Series) -> float:\n",
    "    '''\n",
    "    计算当前样本集的信息熵\n",
    "    Ydata: 样本的标签\n",
    "    '''\n",
    "    n_sample = len(Ydata) # 样本数\n",
    "    prob = Ydata.value_counts() / n_sample # 样本集中各类标签出现的概率\n",
    "    info_ent = -(prob * np.log2(prob)).sum() # 信息熵\n",
    "    return info_ent"
   ]
  },
  {
   "cell_type": "code",
   "execution_count": 5,
   "metadata": {},
   "outputs": [],
   "source": [
    "def Info_Gain(Xdata: pd.DataFrame, Ydata: pd.Series, attr) -> float:\n",
    "    '''\n",
    "    计算当前样本集在属性attr下的信息增益\n",
    "    Xdata: 样本的输入特征\n",
    "    Ydata: 样本的标签\n",
    "    attr: 属性\n",
    "    '''\n",
    "    info_ent = Info_Ent(Ydata) # 样本集的信息熵\n",
    "    vals = Xdata[attr].unique() # 属性attr的所有取值\n",
    "    n_sample = len(Xdata) # 样本数\n",
    "    attr_ent = 0 # 样本集在属性attr下的信息熵\n",
    "    for v in vals: # 取出一个属性值\n",
    "        idx = (Xdata[attr] == v) # 筛选出样本集中属性attr上取值为v的所有样本\n",
    "        attr_ent += idx.sum() / n_sample * Info_Ent(Ydata[idx]) # 累加\n",
    "    info_gain = info_ent - attr_ent # 信息增益\n",
    "    return info_gain"
   ]
  },
  {
   "cell_type": "code",
   "execution_count": 25,
   "metadata": {},
   "outputs": [],
   "source": [
    "class DecisionTree:\n",
    "\n",
    "    def __init__(self):\n",
    "        pass\n",
    "\n",
    "    def fit(self, Xtrain: pd.DataFrame, Ytrain: pd.Series) -> dict:\n",
    "        '''\n",
    "        训练决策树\n",
    "        Xtrain: 训练集的输入特征\n",
    "        Ytrain: 训练集的标签\n",
    "        '''\n",
    "        attr_set = Xtrain.columns.values  # 属性集\n",
    "        self.all_attr_vals = {} # 存放各属性所有可能的取值\n",
    "        # 获取各属性所有可能的取值\n",
    "        for attrn in Xtrain.columns:\n",
    "            self.all_attr_vals[attrn] = Xtrain[attrn].unique()\n",
    "        self.tree = self.createTree(Xtrain, Ytrain, attr_set)  # 由训练样本训练决策树\n",
    "        return self.tree\n",
    "\n",
    "    def createTree(self, Xdata: pd.DataFrame, Ydata: pd.Series, attr_set: np.ndarray):\n",
    "        '''\n",
    "        以递归方式创建决策树\n",
    "        Xdata: 样本的输入特征\n",
    "        Ydata: 样本的标签\n",
    "        attr_set: 当前属性集\n",
    "        '''\n",
    "        # 若当前样本集为空，则直接将其标为空节点，后续还需要将该空节点根据父节点的样本集标为对应的叶节点（即具体的标签）\n",
    "        if len(Ydata) == 0:\n",
    "            return {}\n",
    "        # 若当前样本集中所有的样本的标签均属于同一类，则直接将其标为叶节点\n",
    "        if len(Ydata.unique()) == 1:\n",
    "            return Ydata.iloc[0]\n",
    "        # 若当前属性集为空或者所有样本在所有属性上的取值都一样，则直接将其标为叶节点，并且标签类别设为当前样本集中标签最多的类别\n",
    "        if len(attr_set) == 0 or len(Xdata.drop_duplicates()) == 1:\n",
    "            return Ydata.value_counts().index[0]\n",
    "        tree = {}\n",
    "        gains = np.array([])  # 用于记录不同属性下对应的信息增益\n",
    "        for attr in attr_set:  # 从当前属性集从取出一个属性attr\n",
    "            gains = np.append(gains, Info_Gain(Xdata, Ydata, attr))  # 计算attr下对应的信息增益并加入gains中\n",
    "        attr_idx = gains.argmax()  # gains中最大信息增益值的索引\n",
    "        div_attr = attr_set[attr_idx]  # 选定划分属性\n",
    "        childs = {}  # 存放子节点\n",
    "        tree[div_attr] = childs\n",
    "        new_attr_set = np.delete(attr_set, attr_idx)  # 将划分属性从属性集中删去，为子节点生成新的属性集\n",
    "        attr_vals = self.all_attr_vals[div_attr]  # 划分属性的所有取值\n",
    "        for val in attr_vals:  # 从划分属性中取出一个值val\n",
    "            samp_idx = (Xdata[div_attr] == val)  # 筛选出当前样本集中在划分属性上取值为val的所有样本\n",
    "            X = Xdata[samp_idx]\n",
    "            Y = Ydata[samp_idx]\n",
    "            child = self.createTree(X, Y, new_attr_set)  # 以递归方式生成子树作为当前节点的子节点\n",
    "            childs[val] = child\n",
    "            # 将上述所说的空节点标为叶子节点：用当前节点中标签类别最多的样本对该空节点进行标记\n",
    "            if childs[val] == {}:\n",
    "                childs[val] = Ydata.value_counts().index[0]\n",
    "        return tree\n",
    "\n",
    "    def predict_1(self, x: pd.Series):\n",
    "        '''\n",
    "        预测一个样本的类别\n",
    "        x: 样本的特征输入\n",
    "        '''\n",
    "        cur = self.tree  # 游标，用于实现从树的根节点到叶节点的遍历\n",
    "        while type(cur) == dict:  # 若遍历到的是非叶子节点就继续往下遍历\n",
    "            attr = list(cur.keys())[0]  # 当前节点的划分属性\n",
    "            cur = cur[attr]\n",
    "            cur = cur[x[attr]]\n",
    "        return cur\n",
    "\n",
    "    def predict_n(self, Xtest: pd.DataFrame):\n",
    "        '''\n",
    "        预测一批样本的类别\n",
    "        Xtest: 测试样本的特征输入\n",
    "        '''\n",
    "        Ypred = []  # 记录样本的预测结果\n",
    "        for idx in Xtest.index:\n",
    "            Ypred.append(self.predict_1(Xtest.loc[idx]))\n",
    "        return Ypred\n",
    "\n",
    "    def evaluate(self, Xtest, Ytest):\n",
    "        '''\n",
    "        计算模型在测试集合的准确度\n",
    "        Xtest: 测试样本的特征输入\n",
    "        Ytest: 测试样本的真实标签\n",
    "        '''\n",
    "        Ypred = self.predict_n(Xtest)\n",
    "        accurancy = (Ypred == Ytest).sum() / len(Ytest)\n",
    "        return accurancy"
   ]
  },
  {
   "cell_type": "code",
   "execution_count": 26,
   "metadata": {},
   "outputs": [
    {
     "name": "stdout",
     "output_type": "stream",
     "text": [
      "{'纹理': {'清晰': {'根蒂': {'蜷缩': '是', '稍蜷': {'色泽': {'青绿': '是', '乌黑': {'触感': {'硬滑': '是', '软粘': '否'}}, '浅白': '是'}}, '硬挺': '否'}}, '稍糊': {'触感': {'硬滑': '否', '软粘': '是'}}, '模糊': '否'}}\n"
     ]
    }
   ],
   "source": [
    "# 测试\n",
    "df = pd.read_csv('西瓜2.0.csv', index_col='编号')\n",
    "Xtrain = df.drop('好瓜', axis=1)\n",
    "Ytrain = df['好瓜']\n",
    "classifier = DecisionTree()\n",
    "print(classifier.fit(Xtrain, Ytrain))"
   ]
  },
  {
   "cell_type": "code",
   "execution_count": 27,
   "metadata": {},
   "outputs": [
    {
     "name": "stdout",
     "output_type": "stream",
     "text": [
      "['是', '是', '否', '否']\n"
     ]
    }
   ],
   "source": [
    "df1 = pd.read_csv('西瓜（测试）.csv', index_col='编号')\n",
    "Xtest = df1.drop('好瓜', axis=1)\n",
    "Ytest = df1['好瓜']\n",
    "print(classifier.predict_n(Xtest))"
   ]
  },
  {
   "cell_type": "code",
   "execution_count": 29,
   "metadata": {},
   "outputs": [
    {
     "name": "stdout",
     "output_type": "stream",
     "text": [
      "精度为：100.0%\n"
     ]
    }
   ],
   "source": [
    "print(f'精度为：{100 * classifier.evaluate(Xtest, Ytest)}%')"
   ]
  }
 ],
 "metadata": {
  "kernelspec": {
   "display_name": "Python 3",
   "language": "python",
   "name": "python3"
  },
  "language_info": {
   "codemirror_mode": {
    "name": "ipython",
    "version": 3
   },
   "file_extension": ".py",
   "mimetype": "text/x-python",
   "name": "python",
   "nbconvert_exporter": "python",
   "pygments_lexer": "ipython3",
   "version": "3.7.3"
  },
  "varInspector": {
   "cols": {
    "lenName": 16,
    "lenType": 16,
    "lenVar": 40
   },
   "kernels_config": {
    "python": {
     "delete_cmd_postfix": "",
     "delete_cmd_prefix": "del ",
     "library": "var_list.py",
     "varRefreshCmd": "print(var_dic_list())"
    },
    "r": {
     "delete_cmd_postfix": ") ",
     "delete_cmd_prefix": "rm(",
     "library": "var_list.r",
     "varRefreshCmd": "cat(var_dic_list()) "
    }
   },
   "types_to_exclude": [
    "module",
    "function",
    "builtin_function_or_method",
    "instance",
    "_Feature"
   ],
   "window_display": false
  }
 },
 "nbformat": 4,
 "nbformat_minor": 5
}
