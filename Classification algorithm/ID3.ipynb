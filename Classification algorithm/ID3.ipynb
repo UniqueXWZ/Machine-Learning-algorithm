{
 "cells": [
  {
   "cell_type": "code",
   "execution_count": 1,
   "id": "faf10fc3",
   "metadata": {},
   "outputs": [],
   "source": [
    "import numpy as np\n",
    "import pandas as pd"
   ]
  },
  {
   "cell_type": "code",
   "execution_count": 2,
   "id": "c2cfac06",
   "metadata": {},
   "outputs": [],
   "source": [
    "def Info_Ent(Ydata: pd.Series) ->float:\n",
    "    '''\n",
    "    计算信息熵\n",
    "    '''\n",
    "    n_sample = len(Ydata)\n",
    "    prob = Ydata.value_counts() / n_sample\n",
    "    info_ent = (prob * np.log2(prob)).sum()\n",
    "    return info_ent"
   ]
  },
  {
   "cell_type": "code",
   "execution_count": 3,
   "id": "bc9f09c5",
   "metadata": {},
   "outputs": [],
   "source": [
    "def Info_Gain(Xdata: pd.DataFrame, Ydata: pd.Series, attr: int) ->float:\n",
    "    '''\n",
    "    计算信息增益\n",
    "    '''\n",
    "    info_ent = Info_Ent(Ydata)\n",
    "    vals = Xdata[attr].unique()\n",
    "    n_sample = len(Xdata)\n",
    "    attr_ent = 0\n",
    "    for v in vals:\n",
    "        idx = (Xdata[attr] == v)\n",
    "        attr_ent += len(idx) / n_sample * Info_Ent(Ydata[idx])\n",
    "    info_gain = info_ent - attr_ent\n",
    "    return info_gain"
   ]
  },
  {
   "cell_type": "code",
   "execution_count": null,
   "id": "99c22c6d",
   "metadata": {},
   "outputs": [],
   "source": [
    "class DecisionTree:\n",
    "    \n",
    "    def __init__(self):\n",
    "        pass\n",
    "    \n",
    "    def fit(self, Xtrain: pd.DataFrame, Ytrain: pd.Series) ->dict:\n",
    "        '''\n",
    "        训练\n",
    "        '''\n",
    "        attr_set = Xdata.columns.values\n",
    "        self.tree = self.createTree(Xtrain, Ytrain, attr_set)\n",
    "        return tree\n",
    "    \n",
    "    def createTree(self, Xdata, Ydata, attr_set):\n",
    "        if len(Ydata) == 0:\n",
    "            return {}\n",
    "        if len(Ydata.unique()) == 1:\n",
    "            return Ydata[0]\n",
    "        if len(attr_set == 0) or len(Xdata.drop_duplicates()) == 1:\n",
    "            return Ydata.value_counts().index[0]\n",
    "        tree = {}\n",
    "        gains = np.array([])\n",
    "        for attr in attr_set:\n",
    "            gains = np.append(gains, Info_Gain(Xdata, Ydata, attr))\n",
    "        attr_idx = gains.argmax()\n",
    "        div_attr = attr_set[attr_idx]\n",
    "        childs = {}\n",
    "        tree[div_attr] = childs\n",
    "        new_attr_set = np.delete(attr_set, attr_idx)\n",
    "        attr_vals = Xdata[div_attr].unique()\n",
    "        for val in attr_vals:\n",
    "            samp_idx = (Xdata[div_attr] == val)\n",
    "            X = Xdata[samp_idx]\n",
    "            Y = Ydata[samp_idx]\n",
    "            childs[val] = createTree(X, Y, new_attr_set)\n",
    "            if type(childs[val]) == dict and len(childs[val]) == 0:\n",
    "                childs[val] = Ydata.value_counts().index[0]\n",
    "        return tree\n",
    "        \n",
    "    def predict_1(self, x):\n",
    "        cur = self.tree\n",
    "        while type(cur) == dict:\n",
    "            attr = list(t.keys())[0]\n",
    "            cur = cur[attr]\n",
    "            cur = cur[x[attr]]\n",
    "        return cur\n",
    "    \n",
    "    def predict_n(self, Xtest):\n",
    "        Ypred = []\n",
    "        for x in Xtest:\n",
    "            Ypred.append(self.predict_1(x))\n",
    "        return Ypred\n",
    "    \n",
    "    def evaluate(self, Xtest, Ytest):\n",
    "        Ypred = self.predict_n(Xtest)\n",
    "        accurancy = (Ypred == Ytest).sum() / len(Ytest)\n",
    "        return accurancy"
   ]
  },
  {
   "cell_type": "code",
   "execution_count": null,
   "id": "0ee151f0",
   "metadata": {},
   "outputs": [],
   "source": [
    "# 测试"
   ]
  }
 ],
 "metadata": {
  "kernelspec": {
   "display_name": "Python 3",
   "language": "python",
   "name": "python3"
  },
  "language_info": {
   "codemirror_mode": {
    "name": "ipython",
    "version": 3
   },
   "file_extension": ".py",
   "mimetype": "text/x-python",
   "name": "python",
   "nbconvert_exporter": "python",
   "pygments_lexer": "ipython3",
   "version": "3.8.8"
  },
  "varInspector": {
   "cols": {
    "lenName": 16,
    "lenType": 16,
    "lenVar": 40
   },
   "kernels_config": {
    "python": {
     "delete_cmd_postfix": "",
     "delete_cmd_prefix": "del ",
     "library": "var_list.py",
     "varRefreshCmd": "print(var_dic_list())"
    },
    "r": {
     "delete_cmd_postfix": ") ",
     "delete_cmd_prefix": "rm(",
     "library": "var_list.r",
     "varRefreshCmd": "cat(var_dic_list()) "
    }
   },
   "types_to_exclude": [
    "module",
    "function",
    "builtin_function_or_method",
    "instance",
    "_Feature"
   ],
   "window_display": false
  }
 },
 "nbformat": 4,
 "nbformat_minor": 5
}
