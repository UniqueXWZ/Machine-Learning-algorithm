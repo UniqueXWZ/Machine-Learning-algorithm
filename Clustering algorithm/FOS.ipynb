{
 "cells": [
  {
   "cell_type": "code",
   "execution_count": 1,
   "id": "1da9919d",
   "metadata": {},
   "outputs": [],
   "source": [
    "import numpy as np"
   ]
  },
  {
   "cell_type": "code",
   "execution_count": 2,
   "id": "73741801",
   "metadata": {},
   "outputs": [
    {
     "ename": "SyntaxError",
     "evalue": "unexpected EOF while parsing (<ipython-input-2-7d8360290289>, line 2)",
     "output_type": "error",
     "traceback": [
      "\u001b[1;36m  File \u001b[1;32m\"<ipython-input-2-7d8360290289>\"\u001b[1;36m, line \u001b[1;32m2\u001b[0m\n\u001b[1;33m    def __init__(self):\u001b[0m\n\u001b[1;37m                       ^\u001b[0m\n\u001b[1;31mSyntaxError\u001b[0m\u001b[1;31m:\u001b[0m unexpected EOF while parsing\n"
     ]
    }
   ],
   "source": [
    "class FOS:\n",
    "    def __init__(self, n_class):\n",
    "        self. n_class = n_class\n",
    "    \n",
    "    def mean(self, X, low, high):\n",
    "        return X[low-1: high].mean(axis=0)\n",
    "    \n",
    "    def varition(self, X, low, high):\n",
    "        data = X[low-1: high]\n",
    "        devia = data - self.mean(X, low, high)\n",
    "        vari = (devia ** 2).sum()\n",
    "        return vari\n",
    "    \n",
    "    def fit_transform(self, X, k):\n",
    "        table = self.split_k(X, k)\n",
    "        split_points = table[k, len(X)][1]\n",
    "        split_points = np.insert(split_points, 0, 1)\n",
    "        split_points = np.append(split_points, len(X))\n",
    "        split_res = [[split_points[i], split_points[i+1]] for i in range(len(split_points)-1)]\n",
    "        return split_points, len(split_points), table\n",
    "    \n",
    "    def split_k(self, X, k):\n",
    "        n = X.shape(0)\n",
    "        table = np.zeros((k+1, n+1), dtype='object')\n",
    "        for j in range(2, n+1):\n",
    "            table[2, j] = split_2(X, j)\n",
    "        for i in range(3, k+1):\n",
    "            for j in range(i, n+1):\n",
    "                cache = {}\n",
    "                for m in range(i-1, j):\n",
    "                    vari = table[i-1, m][0] + self.varition(X, j, n)\n",
    "                    cache[vari] = m\n",
    "                minvari = min(cache.keys())\n",
    "                table[i, j] = (minvari, np.append(table[i-1, m][1], m+1))\n",
    "        return table\n",
    "    \n",
    "    def split_2(self, X, endp):\n",
    "        loss2cutp = {}\n",
    "        for i in range(2, endp+1):\n",
    "            loss2cutp[self.varition(X, 1, i-1) + self.varition(X, i, endp)] = i\n",
    "        min_loss = min(loss2cutp.keys())\n",
    "        min_cutp = loss2cutp[min_loss]\n",
    "        res = (min_loss, np.array([min_cutp]))\n",
    "        return res\n",
    "    \n",
    "        "
   ]
  },
  {
   "cell_type": "code",
   "execution_count": 9,
   "id": "e6461fb7",
   "metadata": {},
   "outputs": [
    {
     "data": {
      "text/plain": [
       "array([0, 1, 2, 3, 4, 5, 6, 7, 8, 9])"
      ]
     },
     "execution_count": 9,
     "metadata": {},
     "output_type": "execute_result"
    }
   ],
   "source": [
    "a = np.arange(10)\n",
    "a"
   ]
  },
  {
   "cell_type": "code",
   "execution_count": 14,
   "id": "9fd9a29d",
   "metadata": {},
   "outputs": [
    {
     "data": {
      "text/plain": [
       "array([10,  0,  1,  2,  3,  4,  5,  6,  7,  8,  9])"
      ]
     },
     "execution_count": 14,
     "metadata": {},
     "output_type": "execute_result"
    }
   ],
   "source": [
    "np.insert(a, 0, 10)"
   ]
  },
  {
   "cell_type": "code",
   "execution_count": 17,
   "id": "8358ff28",
   "metadata": {},
   "outputs": [],
   "source": [
    "a = np.arange(4).reshape(2, 2)"
   ]
  },
  {
   "cell_type": "code",
   "execution_count": 18,
   "id": "32bd5195",
   "metadata": {},
   "outputs": [
    {
     "data": {
      "text/plain": [
       "array([[0, 1],\n",
       "       [2, 3]])"
      ]
     },
     "execution_count": 18,
     "metadata": {},
     "output_type": "execute_result"
    }
   ],
   "source": [
    "a"
   ]
  },
  {
   "cell_type": "code",
   "execution_count": 20,
   "id": "781eb895",
   "metadata": {},
   "outputs": [
    {
     "data": {
      "text/plain": [
       "6"
      ]
     },
     "execution_count": 20,
     "metadata": {},
     "output_type": "execute_result"
    }
   ],
   "source": [
    "a.sum()"
   ]
  }
 ],
 "metadata": {
  "kernelspec": {
   "display_name": "Python 3",
   "language": "python",
   "name": "python3"
  },
  "language_info": {
   "codemirror_mode": {
    "name": "ipython",
    "version": 3
   },
   "file_extension": ".py",
   "mimetype": "text/x-python",
   "name": "python",
   "nbconvert_exporter": "python",
   "pygments_lexer": "ipython3",
   "version": "3.8.8"
  },
  "varInspector": {
   "cols": {
    "lenName": 16,
    "lenType": 16,
    "lenVar": 40
   },
   "kernels_config": {
    "python": {
     "delete_cmd_postfix": "",
     "delete_cmd_prefix": "del ",
     "library": "var_list.py",
     "varRefreshCmd": "print(var_dic_list())"
    },
    "r": {
     "delete_cmd_postfix": ") ",
     "delete_cmd_prefix": "rm(",
     "library": "var_list.r",
     "varRefreshCmd": "cat(var_dic_list()) "
    }
   },
   "types_to_exclude": [
    "module",
    "function",
    "builtin_function_or_method",
    "instance",
    "_Feature"
   ],
   "window_display": false
  }
 },
 "nbformat": 4,
 "nbformat_minor": 5
}
