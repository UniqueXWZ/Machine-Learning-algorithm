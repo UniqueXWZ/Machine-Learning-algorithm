{
 "cells": [
  {
   "cell_type": "code",
   "execution_count": 1,
   "metadata": {},
   "outputs": [],
   "source": [
    "import numpy as np"
   ]
  },
  {
   "cell_type": "code",
   "execution_count": 64,
   "metadata": {},
   "outputs": [],
   "source": [
    "class FOS:\n",
    "    def __init__(self, n_class: int):\n",
    "        self.k = n_class\n",
    "    \n",
    "    def mean(self, X: np.ndarray, low: int, high: int):\n",
    "        return X[low-1: high].mean(axis=0)\n",
    "    \n",
    "    def varition(self, X: np.ndarray, low: int, high: int):\n",
    "        data = X[low-1: high]\n",
    "        devia = data - self.mean(X, low, high)\n",
    "        vari = (devia ** 2).sum()\n",
    "        return vari\n",
    "    \n",
    "    def fit_transform(self, X: np.ndarray):\n",
    "        table = self.split_k(X)\n",
    "        split_points = table[self.k, X.shape[0]][1]\n",
    "        tmp = split_points\n",
    "        split_points = np.insert(split_points, 0, 1)\n",
    "        split_points = np.append(split_points, X.shape[0]+1)\n",
    "        split_res = [[split_points[i], split_points[i+1] - 1] for i in range(len(split_points)-1)]\n",
    "        return split_res, tmp, table\n",
    "    \n",
    "    def split_k(self, X: np.ndarray):\n",
    "        n = X.shape[0]\n",
    "        table = np.zeros((self.k+1, n+1), dtype='object')\n",
    "        for j in range(2, n+1):\n",
    "            table[2, j] = self.split_2(X, j)\n",
    "        for i in range(3, self.k+1):\n",
    "            for j in range(i, n+1):\n",
    "                cache = {}\n",
    "                for m in range(i-1, j):\n",
    "                    loss = table[i-1, m][0] + self.varition(X, m+1, j)\n",
    "                    cache[loss] = m\n",
    "                min_loss = min(cache.keys())\n",
    "                min_cutp = cache[min_loss]\n",
    "                table[i, j] = (min_loss, np.append(table[i-1, min_cutp][1], min_cutp+1))\n",
    "        return table\n",
    "    \n",
    "    def split_2(self, X: np.ndarray, endp: int):\n",
    "        loss2cutp = {}\n",
    "        for i in range(2, endp+1):\n",
    "            loss2cutp[self.varition(X, 1, i-1) + self.varition(X, i, endp)] = i\n",
    "        min_loss = min(loss2cutp.keys())\n",
    "        min_cutp = loss2cutp[min_loss]\n",
    "        res = (min_loss, np.array([min_cutp]))\n",
    "        return res\n",
    "    "
   ]
  },
  {
   "cell_type": "code",
   "execution_count": 76,
   "metadata": {},
   "outputs": [],
   "source": [
    "data = np.random.randint(10, size=(1000, 2))"
   ]
  },
  {
   "cell_type": "code",
   "execution_count": 77,
   "metadata": {},
   "outputs": [
    {
     "data": {
      "text/plain": [
       "([[1, 32], [33, 44], [45, 918], [919, 1000]], array([ 33,  45, 919]))"
      ]
     },
     "execution_count": 77,
     "metadata": {},
     "output_type": "execute_result"
    }
   ],
   "source": [
    "fos = FOS(4)\n",
    "res, ps, table = fos.fit_transform(data)\n",
    "res, ps"
   ]
  }
 ],
 "metadata": {
  "kernelspec": {
   "display_name": "Python 3",
   "language": "python",
   "name": "python3"
  },
  "language_info": {
   "codemirror_mode": {
    "name": "ipython",
    "version": 3
   },
   "file_extension": ".py",
   "mimetype": "text/x-python",
   "name": "python",
   "nbconvert_exporter": "python",
   "pygments_lexer": "ipython3",
   "version": "3.7.3"
  },
  "varInspector": {
   "cols": {
    "lenName": 16,
    "lenType": 16,
    "lenVar": 40
   },
   "kernels_config": {
    "python": {
     "delete_cmd_postfix": "",
     "delete_cmd_prefix": "del ",
     "library": "var_list.py",
     "varRefreshCmd": "print(var_dic_list())"
    },
    "r": {
     "delete_cmd_postfix": ") ",
     "delete_cmd_prefix": "rm(",
     "library": "var_list.r",
     "varRefreshCmd": "cat(var_dic_list()) "
    }
   },
   "types_to_exclude": [
    "module",
    "function",
    "builtin_function_or_method",
    "instance",
    "_Feature"
   ],
   "window_display": false
  }
 },
 "nbformat": 4,
 "nbformat_minor": 5
}
