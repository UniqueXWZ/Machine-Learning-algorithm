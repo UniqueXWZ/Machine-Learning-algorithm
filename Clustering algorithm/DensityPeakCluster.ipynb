{
 "cells": [
  {
   "cell_type": "code",
   "execution_count": 11,
   "metadata": {},
   "outputs": [],
   "source": [
    "import numpy as np\n",
    "import matplotlib.pyplot as plt\n",
    "from sklearn.metrics import normalized_mutual_info_score as NMI\n",
    "import sklearn.datasets as ds"
   ]
  },
  {
   "cell_type": "code",
   "execution_count": 176,
   "metadata": {},
   "outputs": [],
   "source": [
    "class DPC:\n",
    "    '''\n",
    "    基于密度峰值的聚类\n",
    "    说明：\n",
    "    1.在代码中没有实现对噪声点的剔除\n",
    "    2.fit_predict()返回的类别是从1开始编号的\n",
    "    '''\n",
    "    def __init__(self, n_cluster, cut_off_dist=None, percent=.02):\n",
    "        '''\n",
    "        n_cluster:聚类数\n",
    "        cut_off_dist:截断距离\n",
    "        percent:当没有给定cut_off_dist时，由percent确定截断距离\n",
    "        '''\n",
    "        self.k = n_cluster\n",
    "        self.cut_off_dist = cut_off_dist\n",
    "        self.percent = percent\n",
    "        \n",
    "    def get_dist_adj(self, X):\n",
    "        '''\n",
    "        计算样本间的距离\n",
    "        '''\n",
    "        n = len(X)\n",
    "        dist_adj = np.zeros((n, n))\n",
    "        for i in range(n - 1):\n",
    "            dists = np.linalg.norm(X[i] - X[i+1:], ord=2, axis=1)\n",
    "            dist_adj[i, i+1:] = dists\n",
    "        dist_adj = dist_adj + dist_adj.T\n",
    "        return dist_adj\n",
    "    \n",
    "    def get_cutOffDist(self, dist_adj):\n",
    "        '''\n",
    "        计算截断距离\n",
    "        '''\n",
    "        if self.cut_off_dist != None:\n",
    "            return self.cut_off_dist\n",
    "        all_dists = np.array([])\n",
    "        for i in range(dist_adj.shape[0] - 1):\n",
    "            all_dists = np.concatenate((all_dists, dist_adj[i, i+1:]))\n",
    "        all_dists.sort()\n",
    "        pos = np.around(len(all_dists) * self.percent).astype('int')\n",
    "        cut_off_dist = all_dists[pos]\n",
    "        return cut_off_dist\n",
    "        \n",
    "    def get_all_density(self, dist_adj, cut_off_dist):\n",
    "        '''\n",
    "        计算样本的密度\n",
    "        '''\n",
    "        all_density = np.sum(dist_adj < cut_off_dist, axis=1) - 1\n",
    "        return all_density\n",
    "        \n",
    "    def get_all_centDists(self, all_density, dist_adj):\n",
    "        '''\n",
    "        计算样本的中心距离\n",
    "        '''\n",
    "        n = len(all_density)\n",
    "        all_centDists = np.zeros(n)\n",
    "        sort_dens_idx = np.argsort(all_density)[::-1]\n",
    "        all_centDists[sort_dens_idx[0]] = dist_adj[sort_dens_idx[0]].max()\n",
    "        for i in range(1, n):\n",
    "            valid_idx = sort_dens_idx[: i]\n",
    "            all_centDists[sort_dens_idx[i]] = dist_adj[sort_dens_idx[i]][valid_idx].min()\n",
    "        return all_centDists\n",
    "    \n",
    "    def show_DecisionGraph(self, all_density, all_centDists):\n",
    "        '''\n",
    "        绘制决策图\n",
    "        '''\n",
    "        plt.scatter(self.all_centDists, self.all_density)\n",
    "        plt.xlabel('ρ')\n",
    "        plt.ylabel('σ')\n",
    "        plt.show()\n",
    "        \n",
    "    def get_cluster_center(self, all_density, all_centDists):\n",
    "        '''\n",
    "        选取聚类中心\n",
    "        '''\n",
    "        scale_density = (all_density - all_density.min()) / (all_density.max() - all_density.min())\n",
    "        scale_centDists = (all_centDists - all_centDists.min()) / (all_centDists.max() - all_centDists.min())\n",
    "        dens_cent = scale_centDists * scale_density\n",
    "        centers = np.argsort(dens_cent)[-self.k:]\n",
    "        return centers\n",
    "    \n",
    "    def fit_predict(self, X):\n",
    "        dist_adj = self.get_dist_adj(X)\n",
    "        cut_off_dist = self.get_cutOffDist(dist_adj)\n",
    "        all_density = self.get_all_density(dist_adj, cut_off_dist)\n",
    "        all_centDists = self.get_all_centDists(all_density, dist_adj)\n",
    "        centers = self.get_cluster_center(all_density, all_centDists)\n",
    "        self.all_density = all_density\n",
    "        self.all_centDists = all_centDists\n",
    "        labels = np.zeros(X.shape[0], dtype='int')\n",
    "        for i in range(self.k):\n",
    "            labels[centers[i]] = i + 1\n",
    "        sort_dens_idx = np.argsort(all_density)[::-1]\n",
    "        for i in range(X.shape[0]):\n",
    "            idx = sort_dens_idx[i]\n",
    "            if idx in centers:\n",
    "                continue\n",
    "            valid_idx = sort_dens_idx[:i]\n",
    "            dists = dist_adj[idx, valid_idx]\n",
    "            i_min = np.argmin(dists)\n",
    "            labels[idx] = labels[sort_dens_idx[i_min]]\n",
    "        return labels"
   ]
  },
  {
   "cell_type": "code",
   "execution_count": 190,
   "metadata": {},
   "outputs": [
    {
     "data": {
      "text/plain": [
       "<matplotlib.collections.PathCollection at 0x1eb13b35640>"
      ]
     },
     "execution_count": 190,
     "metadata": {},
     "output_type": "execute_result"
    },
    {
     "data": {
      "image/png": "[encoded data removed]",
      "text/plain": [
       "<Figure size 432x288 with 1 Axes>"
      ]
     },
     "metadata": {
      "needs_background": "light"
     },
     "output_type": "display_data"
    }
   ],
   "source": [
    "# 生成数据\n",
    "data, tar = ds.make_blobs(800, n_features=2, centers=6)\n",
    "plt.scatter(data[:, 0], data[:, 1])"
   ]
  },
  {
   "cell_type": "code",
   "execution_count": 191,
   "metadata": {},
   "outputs": [
    {
     "data": {
      "text/plain": [
       "array([6, 3, 6, 5, 6, 2, 1, 2, 4, 1, 3, 2, 6, 3, 1, 6, 3, 4, 4, 2, 5, 3,\n",
       "       2, 2, 3, 4, 6, 5, 5, 2, 1, 1, 2, 1, 4, 4, 2, 1, 2, 1, 3, 2, 3, 6,\n",
       "       6, 2, 3, 1, 5, 3, 3, 5, 6, 2, 3, 2, 1, 3, 3, 2, 4, 5, 6, 4, 4, 5,\n",
       "       2, 4, 2, 2, 5, 2, 2, 5, 6, 2, 5, 5, 3, 1, 6, 2, 6, 4, 4, 6, 3, 6,\n",
       "       6, 3, 3, 1, 4, 2, 2, 2, 1, 3, 4, 6, 4, 1, 1, 1, 6, 3, 2, 5, 2, 2,\n",
       "       4, 6, 6, 6, 4, 5, 1, 4, 4, 3, 1, 1, 5, 6, 4, 4, 2, 6, 6, 6, 3, 2,\n",
       "       5, 2, 1, 1, 1, 1, 4, 2, 2, 1, 5, 5, 3, 6, 4, 3, 5, 5, 1, 3, 5, 4,\n",
       "       3, 4, 4, 6, 1, 2, 6, 2, 2, 1, 4, 4, 4, 3, 5, 2, 2, 1, 3, 6, 6, 1,\n",
       "       5, 6, 6, 5, 5, 2, 6, 4, 5, 4, 6, 1, 4, 3, 5, 4, 6, 3, 2, 4, 4, 1,\n",
       "       1, 5, 4, 6, 6, 1, 3, 5, 3, 4, 2, 3, 3, 4, 5, 2, 2, 5, 1, 1, 1, 3,\n",
       "       1, 2, 5, 6, 4, 5, 3, 6, 1, 2, 6, 5, 4, 3, 2, 5, 3, 5, 4, 1, 5, 3,\n",
       "       1, 4, 4, 5, 3, 5, 3, 1, 6, 2, 4, 5, 4, 6, 4, 6, 1, 4, 2, 6, 5, 2,\n",
       "       4, 3, 6, 5, 5, 2, 1, 2, 1, 3, 6, 1, 2, 4, 1, 2, 2, 4, 4, 2, 3, 3,\n",
       "       5, 4, 2, 3, 6, 4, 5, 2, 4, 3, 4, 1, 6, 1, 3, 5, 3, 3, 2, 6, 1, 5,\n",
       "       6, 2, 5, 3, 5, 1, 3, 1, 1, 2, 1, 4, 5, 4, 2, 3, 6, 5, 4, 3, 3, 1,\n",
       "       4, 4, 1, 1, 5, 1, 4, 2, 2, 3, 3, 4, 1, 4, 4, 5, 5, 3, 4, 5, 3, 6,\n",
       "       3, 5, 2, 5, 3, 3, 6, 1, 6, 4, 6, 5, 2, 5, 5, 1, 3, 3, 6, 1, 4, 6,\n",
       "       1, 4, 3, 5, 6, 3, 5, 5, 2, 4, 5, 4, 1, 5, 2, 1, 4, 6, 5, 6, 6, 4,\n",
       "       5, 3, 5, 5, 6, 4, 4, 5, 4, 4, 3, 5, 2, 3, 1, 1, 3, 3, 1, 2, 3, 3,\n",
       "       1, 2, 2, 3, 4, 5, 3, 1, 1, 5, 3, 3, 4, 1, 1, 3, 6, 6, 1, 5, 6, 4,\n",
       "       2, 6, 4, 2, 5, 1, 4, 5, 6, 6, 2, 6, 6, 6, 3, 3, 2, 2, 4, 3, 1, 4,\n",
       "       2, 6, 1, 6, 6, 2, 3, 6, 4, 2, 3, 5, 2, 1, 4, 2, 4, 4, 3, 1, 3, 3,\n",
       "       4, 4, 3, 5, 4, 5, 2, 5, 4, 1, 5, 1, 2, 1, 6, 6, 2, 3, 3, 3, 5, 5,\n",
       "       3, 2, 3, 6, 2, 2, 4, 2, 4, 2, 2, 3, 4, 2, 2, 1, 2, 1, 3, 1, 5, 5,\n",
       "       2, 4, 5, 1, 6, 4, 2, 3, 2, 6, 4, 5, 4, 4, 2, 4, 4, 3, 2, 3, 5, 3,\n",
       "       1, 5, 6, 6, 5, 6, 6, 6, 1, 5, 4, 6, 2, 3, 1, 1, 4, 3, 6, 1, 6, 3,\n",
       "       5, 3, 4, 1, 3, 5, 2, 6, 1, 6, 4, 4, 2, 5, 6, 3, 1, 2, 5, 5, 5, 1,\n",
       "       4, 6, 4, 1, 2, 4, 2, 3, 1, 1, 5, 2, 5, 1, 1, 5, 1, 5, 5, 2, 3, 4,\n",
       "       3, 4, 3, 1, 4, 1, 1, 6, 4, 4, 5, 4, 2, 2, 1, 2, 1, 5, 2, 2, 6, 1,\n",
       "       3, 5, 2, 3, 6, 5, 5, 2, 2, 6, 6, 1, 1, 1, 5, 3, 5, 6, 6, 2, 1, 4,\n",
       "       1, 5, 3, 2, 5, 4, 4, 6, 5, 4, 2, 2, 6, 5, 6, 6, 2, 3, 3, 2, 3, 1,\n",
       "       4, 1, 6, 6, 2, 2, 3, 1, 6, 6, 3, 6, 1, 4, 1, 3, 3, 3, 5, 1, 2, 5,\n",
       "       1, 5, 2, 2, 3, 3, 4, 1, 5, 4, 4, 6, 1, 1, 4, 4, 5, 1, 5, 5, 2, 2,\n",
       "       5, 6, 5, 2, 6, 2, 4, 1, 3, 2, 3, 3, 5, 5, 6, 6, 4, 5, 3, 2, 2, 3,\n",
       "       6, 3, 1, 5, 3, 5, 4, 2, 5, 6, 3, 5, 3, 1, 6, 3, 6, 5, 2, 1, 6, 4,\n",
       "       3, 3, 1, 6, 1, 6, 3, 5, 2, 6, 6, 1, 1, 2, 6, 5, 2, 3, 2, 2, 6, 5,\n",
       "       6, 6, 6, 4, 5, 4, 6, 4])"
      ]
     },
     "execution_count": 191,
     "metadata": {},
     "output_type": "execute_result"
    }
   ],
   "source": [
    "# 预测\n",
    "dpc = DPC(n_cluster=6)\n",
    "pred = dpc.fit_predict(data)\n",
    "pred"
   ]
  },
  {
   "cell_type": "code",
   "execution_count": 192,
   "metadata": {},
   "outputs": [
    {
     "data": {
      "text/plain": [
       "array([4, 5, 4, 2, 4, 1, 6, 1, 3, 6, 5, 1, 4, 5, 6, 4, 5, 3, 3, 1, 2, 5,\n",
       "       1, 1, 5, 3, 4, 2, 2, 1, 6, 6, 1, 6, 3, 3, 1, 6, 1, 6, 5, 1, 5, 4,\n",
       "       4, 1, 5, 6, 2, 5, 5, 2, 4, 1, 5, 1, 6, 5, 5, 1, 3, 2, 4, 3, 3, 2,\n",
       "       1, 3, 1, 1, 2, 1, 1, 2, 4, 1, 2, 2, 6, 6, 4, 1, 4, 3, 3, 4, 5, 4,\n",
       "       4, 5, 5, 6, 3, 1, 1, 1, 6, 5, 3, 4, 3, 6, 6, 6, 4, 5, 1, 2, 1, 1,\n",
       "       3, 4, 4, 4, 3, 2, 6, 3, 3, 5, 6, 6, 2, 4, 3, 3, 1, 4, 4, 4, 5, 1,\n",
       "       2, 1, 6, 6, 6, 6, 3, 1, 1, 6, 2, 2, 5, 4, 3, 5, 2, 2, 6, 5, 2, 3,\n",
       "       5, 3, 3, 4, 6, 1, 4, 1, 1, 6, 3, 3, 3, 5, 2, 1, 1, 6, 5, 4, 4, 6,\n",
       "       2, 4, 4, 2, 2, 1, 4, 3, 2, 3, 4, 6, 3, 5, 2, 3, 4, 5, 1, 3, 3, 6,\n",
       "       6, 2, 3, 4, 4, 6, 5, 2, 5, 3, 1, 5, 5, 3, 2, 1, 1, 2, 6, 6, 6, 5,\n",
       "       6, 1, 2, 4, 3, 2, 5, 4, 6, 1, 4, 2, 3, 5, 1, 2, 5, 2, 3, 6, 2, 5,\n",
       "       6, 3, 3, 2, 5, 2, 5, 6, 4, 1, 3, 2, 3, 4, 3, 4, 6, 3, 1, 4, 2, 4,\n",
       "       3, 5, 4, 2, 2, 1, 6, 1, 6, 5, 4, 6, 1, 3, 6, 1, 1, 3, 3, 1, 5, 5,\n",
       "       2, 3, 1, 5, 4, 3, 2, 1, 3, 5, 3, 6, 4, 6, 5, 2, 5, 5, 1, 4, 6, 2,\n",
       "       4, 1, 2, 5, 2, 6, 6, 6, 6, 4, 6, 3, 2, 3, 1, 5, 4, 2, 3, 5, 5, 6,\n",
       "       3, 3, 6, 6, 2, 6, 3, 1, 1, 5, 5, 3, 6, 3, 3, 2, 2, 5, 3, 2, 5, 4,\n",
       "       5, 2, 1, 2, 4, 5, 4, 6, 4, 3, 4, 2, 1, 2, 2, 6, 5, 5, 4, 6, 3, 4,\n",
       "       6, 3, 5, 2, 4, 5, 2, 2, 1, 3, 2, 3, 6, 2, 1, 6, 3, 4, 2, 4, 4, 3,\n",
       "       2, 5, 2, 2, 4, 3, 3, 2, 3, 3, 6, 2, 1, 5, 6, 6, 5, 5, 6, 1, 5, 5,\n",
       "       6, 1, 1, 5, 3, 2, 5, 6, 6, 2, 5, 5, 3, 6, 6, 5, 4, 4, 6, 2, 4, 3,\n",
       "       1, 4, 3, 1, 2, 6, 3, 2, 4, 4, 1, 4, 4, 4, 5, 5, 4, 1, 3, 5, 6, 3,\n",
       "       1, 4, 6, 4, 4, 1, 5, 4, 3, 1, 5, 2, 1, 6, 3, 1, 3, 3, 5, 6, 5, 5,\n",
       "       3, 3, 5, 2, 3, 2, 4, 2, 3, 6, 2, 6, 1, 6, 1, 4, 1, 5, 5, 5, 2, 2,\n",
       "       5, 1, 5, 4, 1, 1, 3, 1, 3, 1, 1, 5, 3, 1, 4, 6, 1, 6, 5, 6, 2, 2,\n",
       "       1, 3, 2, 6, 4, 3, 1, 5, 1, 4, 3, 2, 3, 3, 1, 3, 3, 5, 1, 5, 2, 5,\n",
       "       6, 2, 4, 4, 2, 4, 4, 4, 6, 2, 3, 4, 1, 5, 6, 6, 3, 5, 4, 6, 4, 5,\n",
       "       2, 5, 3, 6, 5, 2, 1, 4, 6, 4, 3, 3, 1, 2, 4, 5, 6, 1, 2, 2, 2, 6,\n",
       "       3, 4, 3, 6, 1, 3, 1, 5, 6, 6, 2, 1, 2, 6, 6, 2, 6, 2, 2, 1, 5, 3,\n",
       "       5, 3, 5, 6, 3, 6, 6, 4, 3, 3, 2, 3, 1, 1, 6, 1, 6, 2, 1, 1, 4, 6,\n",
       "       5, 2, 1, 5, 4, 2, 2, 1, 1, 4, 4, 6, 6, 6, 2, 5, 2, 4, 4, 1, 6, 3,\n",
       "       6, 2, 5, 1, 2, 3, 3, 4, 2, 3, 1, 1, 4, 2, 4, 4, 1, 5, 5, 1, 5, 6,\n",
       "       3, 6, 4, 4, 1, 1, 5, 6, 1, 4, 5, 4, 6, 3, 6, 5, 5, 5, 2, 6, 1, 2,\n",
       "       6, 2, 1, 1, 5, 5, 3, 6, 2, 3, 3, 4, 6, 6, 3, 3, 2, 6, 2, 2, 4, 1,\n",
       "       2, 4, 2, 1, 4, 1, 3, 6, 5, 1, 5, 5, 2, 2, 4, 4, 3, 2, 5, 1, 1, 5,\n",
       "       4, 5, 6, 2, 5, 2, 3, 1, 2, 4, 5, 2, 5, 6, 4, 5, 4, 2, 1, 6, 4, 3,\n",
       "       5, 5, 6, 4, 6, 4, 5, 2, 1, 4, 4, 6, 6, 1, 4, 2, 4, 5, 1, 1, 4, 2,\n",
       "       5, 4, 4, 3, 2, 3, 4, 3])"
      ]
     },
     "execution_count": 192,
     "metadata": {},
     "output_type": "execute_result"
    }
   ],
   "source": [
    "tar += 1\n",
    "tar"
   ]
  },
  {
   "cell_type": "code",
   "execution_count": 193,
   "metadata": {},
   "outputs": [
    {
     "data": {
      "text/plain": [
       "0.955329582977744"
      ]
     },
     "execution_count": 193,
     "metadata": {},
     "output_type": "execute_result"
    }
   ],
   "source": [
    "# 精度\n",
    "NMI(tar, pred)"
   ]
  },
  {
   "cell_type": "code",
   "execution_count": 194,
   "metadata": {},
   "outputs": [
    {
     "data": {
      "text/plain": [
       "<matplotlib.collections.PathCollection at 0x1eb14002cd0>"
      ]
     },
     "execution_count": 194,
     "metadata": {},
     "output_type": "execute_result"
    },
    {
     "data": {
      "image/png": "[encoded data removed]",
      "text/plain": [
       "<Figure size 432x288 with 1 Axes>"
      ]
     },
     "metadata": {
      "needs_background": "light"
     },
     "output_type": "display_data"
    }
   ],
   "source": [
    "# 聚类可视化结果\n",
    "plt.scatter(data[:, 0], data[:, 1], c=pred)"
   ]
  }
 ],
 "metadata": {
  "kernelspec": {
   "display_name": "Python 3",
   "language": "python",
   "name": "python3"
  },
  "language_info": {
   "codemirror_mode": {
    "name": "ipython",
    "version": 3
   },
   "file_extension": ".py",
   "mimetype": "text/x-python",
   "name": "python",
   "nbconvert_exporter": "python",
   "pygments_lexer": "ipython3",
   "version": "3.8.8"
  },
  "varInspector": {
   "cols": {
    "lenName": 16,
    "lenType": 16,
    "lenVar": 40
   },
   "kernels_config": {
    "python": {
     "delete_cmd_postfix": "",
     "delete_cmd_prefix": "del ",
     "library": "var_list.py",
     "varRefreshCmd": "print(var_dic_list())"
    },
    "r": {
     "delete_cmd_postfix": ") ",
     "delete_cmd_prefix": "rm(",
     "library": "var_list.r",
     "varRefreshCmd": "cat(var_dic_list()) "
    }
   },
   "types_to_exclude": [
    "module",
    "function",
    "builtin_function_or_method",
    "instance",
    "_Feature"
   ],
   "window_display": false
  }
 },
 "nbformat": 4,
 "nbformat_minor": 2
}
